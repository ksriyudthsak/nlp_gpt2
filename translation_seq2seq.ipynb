{
 "cells": [
  {
   "cell_type": "code",
   "execution_count": 1,
   "metadata": {},
   "outputs": [],
   "source": [
    "# This jupyter-notebook is for my study. Codes was modified based on the following references\n",
    "# https://github.com/keras-team/keras/blob/master/examples/lstm_seq2seq.py\n",
    "# https://towardsdatascience.com/seq2seq-model-in-tensorflow-ec0c557e560f"
   ]
  },
  {
   "cell_type": "markdown",
   "metadata": {},
   "source": [
    "# Set up environment"
   ]
  },
  {
   "cell_type": "code",
   "execution_count": 2,
   "metadata": {},
   "outputs": [],
   "source": [
    "import os\n",
    "\n",
    "# make only specific GPU to be utilized\n",
    "os.environ[\"CUDA_DEVICE_ORDER\"] = \"PCI_BUS_ID\"\n",
    "\n",
    "# select GPU to run on\n",
    "GPU = \"0\"\n",
    "os.environ[\"CUDA_VISIBLE_DEVICES\"] = GPU\n",
    "\n",
    "# stop GPU\n",
    "# os.environ[\"CUDA_VISIBLE_DEVICES\"] =\"-1\"\n",
    "\n",
    "# set GPU to be deterministic \n",
    "os.environ[\"PYTHONHASHSEED\"] = \"0\" # set hash environment\n",
    "os.environ[\"TF_CUDNN_USE_AUTOTUNE\"] = \"0\" # use cuDNN function to retrieve the best algorithm\n",
    "os.environ[\"TF_CUDNN_CONVOLUTION_BWD_FILTER_ALGO_DETERMINISTIC\"]='1' # use cuDNN deterministic algorithms\n",
    "os.environ['TF_DETERMINISTIC_OPS'] = '1' # deterministic setting\n",
    "\n",
    "# set numpy, python, tensorflow random seed\n",
    "from numpy.random import seed\n",
    "import random\n",
    "random.seed(10)\n",
    "seed(10)\n",
    "from tensorflow import set_random_seed\n",
    "set_random_seed(20)\n",
    "\n",
    "# GPU memory control\n",
    "import tensorflow as tf\n",
    "config = tf.compat.v1.ConfigProto()\n",
    "# config.gpu_options.allow_growth = True\n",
    "config.gpu_options.per_process_gpu_memory_fraction = 0.40\n",
    "sess = tf.Session(config=config)"
   ]
  },
  {
   "cell_type": "markdown",
   "metadata": {},
   "source": [
    "# Set up data path and parameters"
   ]
  },
  {
   "cell_type": "code",
   "execution_count": 3,
   "metadata": {},
   "outputs": [],
   "source": [
    "# dataset was download from http://www.manythings.org/anki/"
   ]
  },
  {
   "cell_type": "code",
   "execution_count": 4,
   "metadata": {},
   "outputs": [
    {
     "name": "stdout",
     "output_type": "stream",
     "text": [
      "total line 45449\n"
     ]
    }
   ],
   "source": [
    "# Set up path to the data textfile\n",
    "data_path = 'data/jpn-eng/jpn.txt'\n",
    "# data_path = 'data/tha-eng/tha.txt'\n",
    "with open(data_path, 'r', encoding='utf-8') as f:\n",
    "    lines = f.read().split('\\n')\n",
    "print (\"total line\", len(lines))"
   ]
  },
  {
   "cell_type": "code",
   "execution_count": 5,
   "metadata": {},
   "outputs": [],
   "source": [
    "# Set up parameters for training\n",
    "batch_size = 64  # Batch size for training.\n",
    "epochs = 200  # Number of epochs to train for.\n",
    "latent_dim = 256  # Latent dimensionality of the encoding space.\n",
    "start_samples1 = 0\n",
    "end_samples1 = 5000 \n",
    "start_samples2 = 40000\n",
    "end_samples2 = 45000 "
   ]
  },
  {
   "cell_type": "markdown",
   "metadata": {},
   "source": [
    "# Process data"
   ]
  },
  {
   "cell_type": "code",
   "execution_count": 6,
   "metadata": {},
   "outputs": [
    {
     "name": "stdout",
     "output_type": "stream",
     "text": [
      "Number of samples: 10000\n",
      "Number of unique input tokens: 75\n",
      "Number of unique output tokens: 1921\n",
      "Max sequence length for inputs: 79\n",
      "Max sequence length for outputs: 55\n"
     ]
    },
    {
     "name": "stderr",
     "output_type": "stream",
     "text": [
      "Using TensorFlow backend.\n"
     ]
    }
   ],
   "source": [
    "from __future__ import print_function\n",
    " \n",
    "from keras.models import Model\n",
    "from keras.layers import Input, LSTM, Dense\n",
    "import numpy as np\n",
    " \n",
    "# Vectorize the data.\n",
    "input_texts = []\n",
    "target_texts = []\n",
    "input_characters = set()\n",
    "target_characters = set()\n",
    "\n",
    "for line in lines[start_samples1: min(end_samples1, len(lines) - 1)]:\n",
    "    input_text, target_text, _ = line.split('\\t')\n",
    "    target_text = '\\t' + target_text + '\\n'\n",
    "    input_texts.append(input_text)\n",
    "    target_texts.append(target_text)\n",
    "    for char in input_text:\n",
    "        if char not in input_characters:\n",
    "            input_characters.add(char)\n",
    "    for char in target_text:\n",
    "        if char not in target_characters:\n",
    "            target_characters.add(char)\n",
    "\n",
    "for line in lines[start_samples2: min(end_samples2, len(lines) - 1)]:\n",
    "    input_text, target_text, _ = line.split('\\t')\n",
    "    target_text = '\\t' + target_text + '\\n'\n",
    "    input_texts.append(input_text)\n",
    "    target_texts.append(target_text)\n",
    "    for char in input_text:\n",
    "        if char not in input_characters:\n",
    "            input_characters.add(char)\n",
    "    for char in target_text:\n",
    "        if char not in target_characters:\n",
    "            target_characters.add(char)\n",
    "\n",
    "# Set data length\n",
    "input_characters = sorted(list(input_characters))\n",
    "target_characters = sorted(list(target_characters))\n",
    "num_encoder_tokens = len(input_characters)\n",
    "num_decoder_tokens = len(target_characters)\n",
    "max_encoder_seq_length = max([len(txt) for txt in input_texts])\n",
    "max_decoder_seq_length = max([len(txt) for txt in target_texts])\n",
    " \n",
    "print('Number of samples:', len(input_texts))\n",
    "print('Number of unique input tokens:', num_encoder_tokens)\n",
    "print('Number of unique output tokens:', num_decoder_tokens)\n",
    "print('Max sequence length for inputs:', max_encoder_seq_length)\n",
    "print('Max sequence length for outputs:', max_decoder_seq_length)"
   ]
  },
  {
   "cell_type": "code",
   "execution_count": 7,
   "metadata": {},
   "outputs": [
    {
     "name": "stderr",
     "output_type": "stream",
     "text": [
      "IOPub data rate exceeded.\n",
      "The notebook server will temporarily stop sending output\n",
      "to the client in order to avoid crashing it.\n",
      "To change this limit, set the config variable\n",
      "`--NotebookApp.iopub_data_rate_limit`.\n",
      "\n",
      "Current values:\n",
      "NotebookApp.iopub_data_rate_limit=1000000.0 (bytes/sec)\n",
      "NotebookApp.rate_limit_window=3.0 (secs)\n",
      "\n"
     ]
    }
   ],
   "source": [
    "input_token_index = dict(\n",
    "    [(char, i) for i, char in enumerate(input_characters)])\n",
    "target_token_index = dict(\n",
    "    [(char, i) for i, char in enumerate(target_characters)])\n",
    "\n",
    "encoder_input_data = np.zeros(\n",
    "    (len(input_texts), max_encoder_seq_length, num_encoder_tokens),\n",
    "    dtype='float32')\n",
    "decoder_input_data = np.zeros(\n",
    "    (len(input_texts), max_decoder_seq_length, num_decoder_tokens),\n",
    "    dtype='float32')\n",
    "decoder_target_data = np.zeros(\n",
    "    (len(input_texts), max_decoder_seq_length, num_decoder_tokens),\n",
    "    dtype='float32')\n",
    "\n",
    "for i, (input_text, target_text) in enumerate(zip(input_texts, target_texts)):\n",
    "    print (i, input_texts, target_texts)\n",
    "    for t, char in enumerate(input_text):\n",
    "        encoder_input_data[i, t, input_token_index[char]] = 1.\n",
    "    encoder_input_data[i, t + 1:, input_token_index[' ']] = 1.\n",
    "    for t, char in enumerate(target_text):\n",
    "        # decoder_target_data is ahead of decoder_input_data by one timestep\n",
    "        decoder_input_data[i, t, target_token_index[char]] = 1.\n",
    "        if t > 0:\n",
    "            # decoder_target_data will be ahead by one timestep\n",
    "            # and will not include the start character.\n",
    "            decoder_target_data[i, t - 1, target_token_index[char]] = 1.\n",
    "    decoder_input_data[i, t + 1:, target_token_index[' ']] = 1.\n",
    "    decoder_target_data[i, t:, target_token_index[' ']] = 1."
   ]
  },
  {
   "cell_type": "markdown",
   "metadata": {},
   "source": [
    "# Model"
   ]
  },
  {
   "cell_type": "code",
   "execution_count": 8,
   "metadata": {},
   "outputs": [
    {
     "name": "stdout",
     "output_type": "stream",
     "text": [
      "75 (10000, 79, 75)\n",
      "1921 (10000, 55, 1921)\n"
     ]
    }
   ],
   "source": [
    "print (num_encoder_tokens, encoder_input_data.shape)\n",
    "print (num_decoder_tokens, decoder_input_data.shape)"
   ]
  },
  {
   "cell_type": "code",
   "execution_count": 9,
   "metadata": {},
   "outputs": [
    {
     "name": "stdout",
     "output_type": "stream",
     "text": [
      "Model: \"model_1\"\n",
      "__________________________________________________________________________________________________\n",
      "Layer (type)                    Output Shape         Param #     Connected to                     \n",
      "==================================================================================================\n",
      "input_1 (InputLayer)            (None, None, 75)     0                                            \n",
      "__________________________________________________________________________________________________\n",
      "input_2 (InputLayer)            (None, None, 1921)   0                                            \n",
      "__________________________________________________________________________________________________\n",
      "lstm_1 (LSTM)                   [(None, 256), (None, 339968      input_1[0][0]                    \n",
      "__________________________________________________________________________________________________\n",
      "lstm_2 (LSTM)                   [(None, None, 256),  2230272     input_2[0][0]                    \n",
      "                                                                 lstm_1[0][1]                     \n",
      "                                                                 lstm_1[0][2]                     \n",
      "__________________________________________________________________________________________________\n",
      "dense_1 (Dense)                 (None, None, 1921)   493697      lstm_2[0][0]                     \n",
      "==================================================================================================\n",
      "Total params: 3,063,937\n",
      "Trainable params: 3,063,937\n",
      "Non-trainable params: 0\n",
      "__________________________________________________________________________________________________\n"
     ]
    }
   ],
   "source": [
    "# Define an input sequence and process it.\n",
    "encoder_inputs = Input(shape=(None, num_encoder_tokens))\n",
    "encoder = LSTM(latent_dim, return_state=True)\n",
    "encoder_outputs, state_h, state_c = encoder(encoder_inputs)\n",
    "# We discard `encoder_outputs` and only keep the states.\n",
    "encoder_states = [state_h, state_c]\n",
    "\n",
    "# Set up the decoder, using `encoder_states` as initial state.\n",
    "decoder_inputs = Input(shape=(None, num_decoder_tokens))\n",
    "\n",
    "# We set up our decoder to return full output sequences,\n",
    "# and to return internal states as well. We don't use the\n",
    "# return states in the training model, but we will use them in inference.\n",
    "decoder_lstm = LSTM(latent_dim, return_sequences=True, return_state=True)\n",
    "decoder_outputs, _, _ = decoder_lstm(decoder_inputs,\n",
    "                                     initial_state=encoder_states)\n",
    "decoder_dense = Dense(num_decoder_tokens, activation='softmax')\n",
    "decoder_outputs = decoder_dense(decoder_outputs)\n",
    "\n",
    "# Define the model that will turn\n",
    "# `encoder_input_data` & `decoder_input_data` into `decoder_target_data`\n",
    "model = Model([encoder_inputs, decoder_inputs], decoder_outputs)\n",
    "model.compile(optimizer='rmsprop', loss='categorical_crossentropy',\n",
    "              metrics=['accuracy'])\n",
    "model.summary()"
   ]
  },
  {
   "cell_type": "code",
   "execution_count": 10,
   "metadata": {},
   "outputs": [
    {
     "name": "stdout",
     "output_type": "stream",
     "text": [
      "[(10000, 79, 75), (10000, 55, 1921)]\n",
      "(10000, 55, 1921)\n"
     ]
    }
   ],
   "source": [
    "print ([encoder_input_data.shape, decoder_input_data.shape])\n",
    "print (decoder_target_data.shape)"
   ]
  },
  {
   "cell_type": "code",
   "execution_count": 11,
   "metadata": {},
   "outputs": [
    {
     "name": "stderr",
     "output_type": "stream",
     "text": [
      "WARNING: Logging before flag parsing goes to stderr.\n",
      "W1222 10:43:59.581205 140277091657536 deprecation.py:323] From /usr/local/lib/python3.6/dist-packages/tensorflow/python/ops/math_grad.py:1250: add_dispatch_support.<locals>.wrapper (from tensorflow.python.ops.array_ops) is deprecated and will be removed in a future version.\n",
      "Instructions for updating:\n",
      "Use tf.where in 2.0, which has the same broadcast rule as np.where\n",
      "W1222 10:44:01.042556 140277091657536 deprecation_wrapper.py:119] From /usr/local/lib/python3.6/dist-packages/keras/backend/tensorflow_backend.py:422: The name tf.global_variables is deprecated. Please use tf.compat.v1.global_variables instead.\n",
      "\n"
     ]
    },
    {
     "name": "stdout",
     "output_type": "stream",
     "text": [
      "Train on 8000 samples, validate on 2000 samples\n",
      "Epoch 1/200\n",
      "8000/8000 [==============================] - 18s 2ms/step - loss: 1.7339 - accuracy: 0.7307 - val_loss: 2.8443 - val_accuracy: 0.5060\n",
      "Epoch 2/200\n",
      "8000/8000 [==============================] - 15s 2ms/step - loss: 1.3725 - accuracy: 0.7530 - val_loss: 2.5601 - val_accuracy: 0.5590\n",
      "Epoch 3/200\n",
      "8000/8000 [==============================] - 15s 2ms/step - loss: 1.2223 - accuracy: 0.7810 - val_loss: 2.3946 - val_accuracy: 0.5640\n",
      "Epoch 4/200\n",
      "8000/8000 [==============================] - 16s 2ms/step - loss: 1.1326 - accuracy: 0.7908 - val_loss: 2.2378 - val_accuracy: 0.5918\n",
      "Epoch 5/200\n",
      "8000/8000 [==============================] - 15s 2ms/step - loss: 1.0202 - accuracy: 0.8072 - val_loss: 2.1438 - val_accuracy: 0.6084\n",
      "Epoch 6/200\n",
      "8000/8000 [==============================] - 15s 2ms/step - loss: 0.9561 - accuracy: 0.8151 - val_loss: 2.0870 - val_accuracy: 0.6125\n",
      "Epoch 7/200\n",
      "8000/8000 [==============================] - 15s 2ms/step - loss: 0.9099 - accuracy: 0.8221 - val_loss: 2.0151 - val_accuracy: 0.6243\n",
      "Epoch 8/200\n",
      "8000/8000 [==============================] - 15s 2ms/step - loss: 0.8720 - accuracy: 0.8275 - val_loss: 1.9643 - val_accuracy: 0.6339\n",
      "Epoch 9/200\n",
      "8000/8000 [==============================] - 15s 2ms/step - loss: 0.8414 - accuracy: 0.8323 - val_loss: 1.9487 - val_accuracy: 0.6371\n",
      "Epoch 10/200\n",
      "8000/8000 [==============================] - 15s 2ms/step - loss: 0.8123 - accuracy: 0.8364 - val_loss: 1.9106 - val_accuracy: 0.6421\n",
      "Epoch 11/200\n",
      "8000/8000 [==============================] - 15s 2ms/step - loss: 0.7877 - accuracy: 0.8406 - val_loss: 1.8793 - val_accuracy: 0.6464\n",
      "Epoch 12/200\n",
      "8000/8000 [==============================] - 15s 2ms/step - loss: 0.7655 - accuracy: 0.8442 - val_loss: 1.8578 - val_accuracy: 0.6494\n",
      "Epoch 13/200\n",
      "8000/8000 [==============================] - 15s 2ms/step - loss: 0.7434 - accuracy: 0.8476 - val_loss: 1.8558 - val_accuracy: 0.6503\n",
      "Epoch 14/200\n",
      "8000/8000 [==============================] - 15s 2ms/step - loss: 0.7233 - accuracy: 0.8512 - val_loss: 1.8550 - val_accuracy: 0.6507\n",
      "Epoch 15/200\n",
      "8000/8000 [==============================] - 15s 2ms/step - loss: 0.7037 - accuracy: 0.8543 - val_loss: 1.8431 - val_accuracy: 0.6535\n",
      "Epoch 16/200\n",
      "8000/8000 [==============================] - 15s 2ms/step - loss: 0.6850 - accuracy: 0.8579 - val_loss: 1.8399 - val_accuracy: 0.6541\n",
      "Epoch 17/200\n",
      "8000/8000 [==============================] - 15s 2ms/step - loss: 0.6752 - accuracy: 0.8598 - val_loss: 1.7899 - val_accuracy: 0.6599\n",
      "Epoch 18/200\n",
      "8000/8000 [==============================] - 16s 2ms/step - loss: 0.6835 - accuracy: 0.8576 - val_loss: 1.7975 - val_accuracy: 0.6608\n",
      "Epoch 19/200\n",
      "8000/8000 [==============================] - 15s 2ms/step - loss: 0.6409 - accuracy: 0.8656 - val_loss: 1.8241 - val_accuracy: 0.6575\n",
      "Epoch 20/200\n",
      "8000/8000 [==============================] - 15s 2ms/step - loss: 0.6211 - accuracy: 0.8695 - val_loss: 1.8304 - val_accuracy: 0.6582\n",
      "Epoch 21/200\n",
      "8000/8000 [==============================] - 15s 2ms/step - loss: 0.6045 - accuracy: 0.8726 - val_loss: 1.8279 - val_accuracy: 0.6596\n",
      "Epoch 22/200\n",
      "8000/8000 [==============================] - 15s 2ms/step - loss: 0.5889 - accuracy: 0.8755 - val_loss: 1.8371 - val_accuracy: 0.6578\n",
      "Epoch 23/200\n",
      "8000/8000 [==============================] - 15s 2ms/step - loss: 0.5731 - accuracy: 0.8783 - val_loss: 1.8428 - val_accuracy: 0.6581\n",
      "Epoch 24/200\n",
      "8000/8000 [==============================] - 15s 2ms/step - loss: 0.5712 - accuracy: 0.8787 - val_loss: 1.8320 - val_accuracy: 0.6589\n",
      "Epoch 25/200\n",
      "8000/8000 [==============================] - 15s 2ms/step - loss: 0.5531 - accuracy: 0.8824 - val_loss: 1.8311 - val_accuracy: 0.6612\n",
      "Epoch 26/200\n",
      "8000/8000 [==============================] - 15s 2ms/step - loss: 0.5345 - accuracy: 0.8861 - val_loss: 1.8436 - val_accuracy: 0.6603\n",
      "Epoch 27/200\n",
      "8000/8000 [==============================] - 15s 2ms/step - loss: 0.5201 - accuracy: 0.8891 - val_loss: 1.8769 - val_accuracy: 0.6584\n",
      "Epoch 28/200\n",
      "8000/8000 [==============================] - 15s 2ms/step - loss: 0.5056 - accuracy: 0.8920 - val_loss: 1.9057 - val_accuracy: 0.6552\n",
      "Epoch 29/200\n",
      "8000/8000 [==============================] - 15s 2ms/step - loss: 0.4940 - accuracy: 0.8943 - val_loss: 1.9210 - val_accuracy: 0.6559\n",
      "Epoch 30/200\n",
      "8000/8000 [==============================] - 15s 2ms/step - loss: 0.4794 - accuracy: 0.8973 - val_loss: 1.9163 - val_accuracy: 0.6568\n",
      "Epoch 31/200\n",
      "8000/8000 [==============================] - 15s 2ms/step - loss: 0.4664 - accuracy: 0.9002 - val_loss: 1.9596 - val_accuracy: 0.6549\n",
      "Epoch 32/200\n",
      "8000/8000 [==============================] - 15s 2ms/step - loss: 0.4546 - accuracy: 0.9027 - val_loss: 1.9736 - val_accuracy: 0.6540\n",
      "Epoch 33/200\n",
      "8000/8000 [==============================] - 15s 2ms/step - loss: 0.4447 - accuracy: 0.9055 - val_loss: 1.9952 - val_accuracy: 0.6514\n",
      "Epoch 34/200\n",
      "8000/8000 [==============================] - 15s 2ms/step - loss: 0.4358 - accuracy: 0.9070 - val_loss: 1.9866 - val_accuracy: 0.6537\n",
      "Epoch 35/200\n",
      "8000/8000 [==============================] - 15s 2ms/step - loss: 0.4230 - accuracy: 0.9100 - val_loss: 1.9946 - val_accuracy: 0.6536\n",
      "Epoch 36/200\n",
      "8000/8000 [==============================] - 15s 2ms/step - loss: 0.4125 - accuracy: 0.9122 - val_loss: 2.0203 - val_accuracy: 0.6527\n",
      "Epoch 37/200\n",
      "8000/8000 [==============================] - 15s 2ms/step - loss: 0.4023 - accuracy: 0.9146 - val_loss: 2.0465 - val_accuracy: 0.6514\n",
      "Epoch 38/200\n",
      "8000/8000 [==============================] - 15s 2ms/step - loss: 0.3929 - accuracy: 0.9164 - val_loss: 2.0497 - val_accuracy: 0.6515\n",
      "Epoch 39/200\n",
      "8000/8000 [==============================] - 15s 2ms/step - loss: 0.3832 - accuracy: 0.9188 - val_loss: 2.0816 - val_accuracy: 0.6499\n",
      "Epoch 40/200\n",
      "8000/8000 [==============================] - 15s 2ms/step - loss: 0.3742 - accuracy: 0.9207 - val_loss: 2.0948 - val_accuracy: 0.6487\n",
      "Epoch 41/200\n",
      "8000/8000 [==============================] - 15s 2ms/step - loss: 0.3665 - accuracy: 0.9227 - val_loss: 2.1100 - val_accuracy: 0.6504\n",
      "Epoch 42/200\n",
      "8000/8000 [==============================] - 15s 2ms/step - loss: 0.3583 - accuracy: 0.9242 - val_loss: 2.1228 - val_accuracy: 0.6503\n",
      "Epoch 43/200\n",
      "8000/8000 [==============================] - 15s 2ms/step - loss: 0.3512 - accuracy: 0.9257 - val_loss: 2.1503 - val_accuracy: 0.6487\n",
      "Epoch 44/200\n",
      "8000/8000 [==============================] - 15s 2ms/step - loss: 0.3426 - accuracy: 0.9279 - val_loss: 2.1661 - val_accuracy: 0.6493\n",
      "Epoch 45/200\n",
      "8000/8000 [==============================] - 15s 2ms/step - loss: 0.3349 - accuracy: 0.9297 - val_loss: 2.1965 - val_accuracy: 0.6467\n",
      "Epoch 46/200\n",
      "8000/8000 [==============================] - 15s 2ms/step - loss: 0.3285 - accuracy: 0.9312 - val_loss: 2.1890 - val_accuracy: 0.6470\n",
      "Epoch 47/200\n",
      "8000/8000 [==============================] - 15s 2ms/step - loss: 0.3219 - accuracy: 0.9324 - val_loss: 2.2030 - val_accuracy: 0.6473\n",
      "Epoch 48/200\n",
      "8000/8000 [==============================] - 15s 2ms/step - loss: 0.3145 - accuracy: 0.9343 - val_loss: 2.2273 - val_accuracy: 0.6474\n",
      "Epoch 49/200\n",
      "8000/8000 [==============================] - 15s 2ms/step - loss: 0.3084 - accuracy: 0.9356 - val_loss: 2.2574 - val_accuracy: 0.6450\n",
      "Epoch 50/200\n",
      "8000/8000 [==============================] - 15s 2ms/step - loss: 0.3027 - accuracy: 0.9370 - val_loss: 2.2598 - val_accuracy: 0.6475\n",
      "Epoch 51/200\n",
      "8000/8000 [==============================] - 15s 2ms/step - loss: 0.2964 - accuracy: 0.9384 - val_loss: 2.2677 - val_accuracy: 0.6456\n",
      "Epoch 52/200\n",
      "8000/8000 [==============================] - 15s 2ms/step - loss: 0.2912 - accuracy: 0.9395 - val_loss: 2.3026 - val_accuracy: 0.6450\n",
      "Epoch 53/200\n",
      "8000/8000 [==============================] - 15s 2ms/step - loss: 0.2869 - accuracy: 0.9406 - val_loss: 2.3177 - val_accuracy: 0.6451\n",
      "Epoch 54/200\n",
      "8000/8000 [==============================] - 15s 2ms/step - loss: 0.2808 - accuracy: 0.9418 - val_loss: 2.3223 - val_accuracy: 0.6436\n",
      "Epoch 55/200\n",
      "8000/8000 [==============================] - 18s 2ms/step - loss: 0.2759 - accuracy: 0.9431 - val_loss: 2.3497 - val_accuracy: 0.6445\n",
      "Epoch 56/200\n"
     ]
    },
    {
     "name": "stdout",
     "output_type": "stream",
     "text": [
      "8000/8000 [==============================] - 15s 2ms/step - loss: 0.2710 - accuracy: 0.9441 - val_loss: 2.3554 - val_accuracy: 0.6446\n",
      "Epoch 57/200\n",
      "8000/8000 [==============================] - 15s 2ms/step - loss: 0.2656 - accuracy: 0.9454 - val_loss: 2.3651 - val_accuracy: 0.6432\n",
      "Epoch 58/200\n",
      "8000/8000 [==============================] - 15s 2ms/step - loss: 0.2617 - accuracy: 0.9464 - val_loss: 2.3863 - val_accuracy: 0.6428\n",
      "Epoch 59/200\n",
      "8000/8000 [==============================] - 15s 2ms/step - loss: 0.2566 - accuracy: 0.9473 - val_loss: 2.4010 - val_accuracy: 0.6426\n",
      "Epoch 60/200\n",
      "8000/8000 [==============================] - 15s 2ms/step - loss: 0.2527 - accuracy: 0.9483 - val_loss: 2.3944 - val_accuracy: 0.6436\n",
      "Epoch 61/200\n",
      "8000/8000 [==============================] - 15s 2ms/step - loss: 0.2482 - accuracy: 0.9492 - val_loss: 2.4312 - val_accuracy: 0.6434\n",
      "Epoch 62/200\n",
      "8000/8000 [==============================] - 15s 2ms/step - loss: 0.2445 - accuracy: 0.9503 - val_loss: 2.4158 - val_accuracy: 0.6442\n",
      "Epoch 63/200\n",
      "8000/8000 [==============================] - 15s 2ms/step - loss: 0.2403 - accuracy: 0.9509 - val_loss: 2.4410 - val_accuracy: 0.6426\n",
      "Epoch 64/200\n",
      "8000/8000 [==============================] - 15s 2ms/step - loss: 0.2362 - accuracy: 0.9519 - val_loss: 2.4682 - val_accuracy: 0.6434\n",
      "Epoch 65/200\n",
      "8000/8000 [==============================] - 15s 2ms/step - loss: 0.2331 - accuracy: 0.9524 - val_loss: 2.4831 - val_accuracy: 0.6434\n",
      "Epoch 66/200\n",
      "8000/8000 [==============================] - 15s 2ms/step - loss: 0.2299 - accuracy: 0.9532 - val_loss: 2.4806 - val_accuracy: 0.6425\n",
      "Epoch 67/200\n",
      "8000/8000 [==============================] - 15s 2ms/step - loss: 0.2265 - accuracy: 0.9540 - val_loss: 2.4888 - val_accuracy: 0.6435\n",
      "Epoch 68/200\n",
      "8000/8000 [==============================] - 15s 2ms/step - loss: 0.2250 - accuracy: 0.9541 - val_loss: 2.5105 - val_accuracy: 0.6414\n",
      "Epoch 69/200\n",
      "8000/8000 [==============================] - 15s 2ms/step - loss: 0.2234 - accuracy: 0.9544 - val_loss: 2.5263 - val_accuracy: 0.6419\n",
      "Epoch 70/200\n",
      "8000/8000 [==============================] - 15s 2ms/step - loss: 0.2174 - accuracy: 0.9559 - val_loss: 2.5354 - val_accuracy: 0.6423\n",
      "Epoch 71/200\n",
      "8000/8000 [==============================] - 15s 2ms/step - loss: 0.2142 - accuracy: 0.9566 - val_loss: 2.5536 - val_accuracy: 0.6412\n",
      "Epoch 72/200\n",
      "8000/8000 [==============================] - 15s 2ms/step - loss: 0.2115 - accuracy: 0.9570 - val_loss: 2.5737 - val_accuracy: 0.6402\n",
      "Epoch 73/200\n",
      "8000/8000 [==============================] - 15s 2ms/step - loss: 0.2084 - accuracy: 0.9578 - val_loss: 2.5776 - val_accuracy: 0.6413\n",
      "Epoch 74/200\n",
      "8000/8000 [==============================] - 15s 2ms/step - loss: 0.2060 - accuracy: 0.9582 - val_loss: 2.5857 - val_accuracy: 0.6418\n",
      "Epoch 75/200\n",
      "8000/8000 [==============================] - 15s 2ms/step - loss: 0.2038 - accuracy: 0.9587 - val_loss: 2.6062 - val_accuracy: 0.6407\n",
      "Epoch 76/200\n",
      "8000/8000 [==============================] - 15s 2ms/step - loss: 0.2014 - accuracy: 0.9591 - val_loss: 2.5874 - val_accuracy: 0.6415\n",
      "Epoch 77/200\n",
      "8000/8000 [==============================] - 15s 2ms/step - loss: 0.1986 - accuracy: 0.9597 - val_loss: 2.6225 - val_accuracy: 0.6407\n",
      "Epoch 78/200\n",
      "8000/8000 [==============================] - 15s 2ms/step - loss: 0.1968 - accuracy: 0.9600 - val_loss: 2.6285 - val_accuracy: 0.6399\n",
      "Epoch 79/200\n",
      "8000/8000 [==============================] - 15s 2ms/step - loss: 0.1942 - accuracy: 0.9605 - val_loss: 2.6389 - val_accuracy: 0.6409\n",
      "Epoch 80/200\n",
      "8000/8000 [==============================] - 15s 2ms/step - loss: 0.1918 - accuracy: 0.9609 - val_loss: 2.6552 - val_accuracy: 0.6408\n",
      "Epoch 81/200\n",
      "8000/8000 [==============================] - 15s 2ms/step - loss: 0.1899 - accuracy: 0.9613 - val_loss: 2.6654 - val_accuracy: 0.6403\n",
      "Epoch 82/200\n",
      "8000/8000 [==============================] - 15s 2ms/step - loss: 0.1879 - accuracy: 0.9617 - val_loss: 2.6860 - val_accuracy: 0.6409\n",
      "Epoch 83/200\n",
      "8000/8000 [==============================] - 15s 2ms/step - loss: 0.1860 - accuracy: 0.9620 - val_loss: 2.6913 - val_accuracy: 0.6409\n",
      "Epoch 84/200\n",
      "8000/8000 [==============================] - 15s 2ms/step - loss: 0.1845 - accuracy: 0.9622 - val_loss: 2.6749 - val_accuracy: 0.6416\n",
      "Epoch 85/200\n",
      "8000/8000 [==============================] - 15s 2ms/step - loss: 0.1817 - accuracy: 0.9628 - val_loss: 2.7204 - val_accuracy: 0.6405\n",
      "Epoch 86/200\n",
      "8000/8000 [==============================] - 15s 2ms/step - loss: 0.1802 - accuracy: 0.9631 - val_loss: 2.7114 - val_accuracy: 0.6412\n",
      "Epoch 87/200\n",
      "8000/8000 [==============================] - 15s 2ms/step - loss: 0.1784 - accuracy: 0.9634 - val_loss: 2.7160 - val_accuracy: 0.6422\n",
      "Epoch 88/200\n",
      "8000/8000 [==============================] - 15s 2ms/step - loss: 0.1767 - accuracy: 0.9639 - val_loss: 2.7356 - val_accuracy: 0.6412\n",
      "Epoch 89/200\n",
      "8000/8000 [==============================] - 15s 2ms/step - loss: 0.1753 - accuracy: 0.9642 - val_loss: 2.7363 - val_accuracy: 0.6419\n",
      "Epoch 90/200\n",
      "8000/8000 [==============================] - 15s 2ms/step - loss: 0.1736 - accuracy: 0.9645 - val_loss: 2.7596 - val_accuracy: 0.6406\n",
      "Epoch 91/200\n",
      "8000/8000 [==============================] - 15s 2ms/step - loss: 0.1719 - accuracy: 0.9648 - val_loss: 2.7505 - val_accuracy: 0.6410\n",
      "Epoch 92/200\n",
      "8000/8000 [==============================] - 15s 2ms/step - loss: 0.1708 - accuracy: 0.9648 - val_loss: 2.7603 - val_accuracy: 0.6416\n",
      "Epoch 93/200\n",
      "8000/8000 [==============================] - 15s 2ms/step - loss: 0.1690 - accuracy: 0.9653 - val_loss: 2.7810 - val_accuracy: 0.6405\n",
      "Epoch 94/200\n",
      "8000/8000 [==============================] - 15s 2ms/step - loss: 0.1679 - accuracy: 0.9655 - val_loss: 2.7654 - val_accuracy: 0.6413\n",
      "Epoch 95/200\n",
      "8000/8000 [==============================] - 15s 2ms/step - loss: 0.1663 - accuracy: 0.9656 - val_loss: 2.7872 - val_accuracy: 0.6403\n",
      "Epoch 96/200\n",
      "8000/8000 [==============================] - 15s 2ms/step - loss: 0.1649 - accuracy: 0.9660 - val_loss: 2.8043 - val_accuracy: 0.6407\n",
      "Epoch 97/200\n",
      "8000/8000 [==============================] - 15s 2ms/step - loss: 0.1636 - accuracy: 0.9661 - val_loss: 2.8254 - val_accuracy: 0.6402\n",
      "Epoch 98/200\n",
      "8000/8000 [==============================] - 15s 2ms/step - loss: 0.1625 - accuracy: 0.9665 - val_loss: 2.8108 - val_accuracy: 0.6413\n",
      "Epoch 99/200\n",
      "8000/8000 [==============================] - 15s 2ms/step - loss: 0.1609 - accuracy: 0.9664 - val_loss: 2.8280 - val_accuracy: 0.6410\n",
      "Epoch 100/200\n",
      "8000/8000 [==============================] - 15s 2ms/step - loss: 0.1594 - accuracy: 0.9668 - val_loss: 2.8372 - val_accuracy: 0.6404\n",
      "Epoch 101/200\n",
      "8000/8000 [==============================] - 15s 2ms/step - loss: 0.1583 - accuracy: 0.9670 - val_loss: 2.8750 - val_accuracy: 0.6381\n",
      "Epoch 102/200\n",
      "8000/8000 [==============================] - 15s 2ms/step - loss: 0.1572 - accuracy: 0.9673 - val_loss: 2.8492 - val_accuracy: 0.6396\n",
      "Epoch 103/200\n",
      "8000/8000 [==============================] - 15s 2ms/step - loss: 0.1563 - accuracy: 0.9673 - val_loss: 2.8810 - val_accuracy: 0.6397\n",
      "Epoch 104/200\n",
      "8000/8000 [==============================] - 15s 2ms/step - loss: 0.1551 - accuracy: 0.9676 - val_loss: 2.9028 - val_accuracy: 0.6387\n",
      "Epoch 105/200\n",
      "8000/8000 [==============================] - 15s 2ms/step - loss: 0.1536 - accuracy: 0.9680 - val_loss: 2.8767 - val_accuracy: 0.6402\n",
      "Epoch 106/200\n",
      "8000/8000 [==============================] - 15s 2ms/step - loss: 0.1524 - accuracy: 0.9681 - val_loss: 2.8750 - val_accuracy: 0.6403\n",
      "Epoch 107/200\n",
      "8000/8000 [==============================] - 15s 2ms/step - loss: 0.1513 - accuracy: 0.9682 - val_loss: 2.8882 - val_accuracy: 0.6385\n",
      "Epoch 108/200\n",
      "8000/8000 [==============================] - 15s 2ms/step - loss: 0.1506 - accuracy: 0.9685 - val_loss: 2.9043 - val_accuracy: 0.6400\n",
      "Epoch 109/200\n",
      "8000/8000 [==============================] - 15s 2ms/step - loss: 0.1492 - accuracy: 0.9684 - val_loss: 2.9051 - val_accuracy: 0.6389\n",
      "Epoch 110/200\n",
      "8000/8000 [==============================] - 15s 2ms/step - loss: 0.1483 - accuracy: 0.9687 - val_loss: 2.9027 - val_accuracy: 0.6402\n",
      "Epoch 111/200\n",
      "8000/8000 [==============================] - 15s 2ms/step - loss: 0.1471 - accuracy: 0.9689 - val_loss: 2.9224 - val_accuracy: 0.6390\n"
     ]
    },
    {
     "name": "stdout",
     "output_type": "stream",
     "text": [
      "Epoch 112/200\n",
      "8000/8000 [==============================] - 15s 2ms/step - loss: 0.1475 - accuracy: 0.9688 - val_loss: 2.9409 - val_accuracy: 0.6385\n",
      "Epoch 113/200\n",
      "8000/8000 [==============================] - 15s 2ms/step - loss: 0.1466 - accuracy: 0.9689 - val_loss: 2.9408 - val_accuracy: 0.6395\n",
      "Epoch 114/200\n",
      "8000/8000 [==============================] - 15s 2ms/step - loss: 0.1454 - accuracy: 0.9692 - val_loss: 2.9333 - val_accuracy: 0.6399\n",
      "Epoch 115/200\n",
      "8000/8000 [==============================] - 15s 2ms/step - loss: 0.1439 - accuracy: 0.9696 - val_loss: 2.9424 - val_accuracy: 0.6390\n",
      "Epoch 116/200\n",
      "8000/8000 [==============================] - 15s 2ms/step - loss: 0.1429 - accuracy: 0.9696 - val_loss: 2.9591 - val_accuracy: 0.6378\n",
      "Epoch 117/200\n",
      "8000/8000 [==============================] - 15s 2ms/step - loss: 0.1415 - accuracy: 0.9702 - val_loss: 2.9596 - val_accuracy: 0.6399\n",
      "Epoch 118/200\n",
      "8000/8000 [==============================] - 15s 2ms/step - loss: 0.1405 - accuracy: 0.9702 - val_loss: 2.9649 - val_accuracy: 0.6386\n",
      "Epoch 119/200\n",
      "8000/8000 [==============================] - 15s 2ms/step - loss: 0.1395 - accuracy: 0.9702 - val_loss: 2.9832 - val_accuracy: 0.6386\n",
      "Epoch 120/200\n",
      "8000/8000 [==============================] - 15s 2ms/step - loss: 0.1389 - accuracy: 0.9704 - val_loss: 2.9710 - val_accuracy: 0.6397\n",
      "Epoch 121/200\n",
      "8000/8000 [==============================] - 15s 2ms/step - loss: 0.1379 - accuracy: 0.9707 - val_loss: 2.9733 - val_accuracy: 0.6398\n",
      "Epoch 122/200\n",
      "8000/8000 [==============================] - 15s 2ms/step - loss: 0.1371 - accuracy: 0.9708 - val_loss: 2.9823 - val_accuracy: 0.6394\n",
      "Epoch 123/200\n",
      "8000/8000 [==============================] - 15s 2ms/step - loss: 0.1366 - accuracy: 0.9709 - val_loss: 3.0014 - val_accuracy: 0.6394\n",
      "Epoch 124/200\n",
      "8000/8000 [==============================] - 15s 2ms/step - loss: 0.1356 - accuracy: 0.9711 - val_loss: 3.0174 - val_accuracy: 0.6395\n",
      "Epoch 125/200\n",
      "8000/8000 [==============================] - 15s 2ms/step - loss: 0.1346 - accuracy: 0.9713 - val_loss: 3.0206 - val_accuracy: 0.6394\n",
      "Epoch 126/200\n",
      "8000/8000 [==============================] - 15s 2ms/step - loss: 0.1335 - accuracy: 0.9714 - val_loss: 3.0278 - val_accuracy: 0.6385\n",
      "Epoch 127/200\n",
      "8000/8000 [==============================] - 15s 2ms/step - loss: 0.1330 - accuracy: 0.9715 - val_loss: 3.0265 - val_accuracy: 0.6388\n",
      "Epoch 128/200\n",
      "8000/8000 [==============================] - 15s 2ms/step - loss: 0.1318 - accuracy: 0.9717 - val_loss: 3.0289 - val_accuracy: 0.6386\n",
      "Epoch 129/200\n",
      "8000/8000 [==============================] - 15s 2ms/step - loss: 0.1312 - accuracy: 0.9718 - val_loss: 3.0342 - val_accuracy: 0.6380\n",
      "Epoch 130/200\n",
      "8000/8000 [==============================] - 15s 2ms/step - loss: 0.1303 - accuracy: 0.9719 - val_loss: 3.0444 - val_accuracy: 0.6383\n",
      "Epoch 131/200\n",
      "8000/8000 [==============================] - 15s 2ms/step - loss: 0.1298 - accuracy: 0.9721 - val_loss: 3.0480 - val_accuracy: 0.6393\n",
      "Epoch 132/200\n",
      "8000/8000 [==============================] - 15s 2ms/step - loss: 0.1288 - accuracy: 0.9722 - val_loss: 3.0537 - val_accuracy: 0.6391\n",
      "Epoch 133/200\n",
      "8000/8000 [==============================] - 14s 2ms/step - loss: 0.1279 - accuracy: 0.9724 - val_loss: 3.0572 - val_accuracy: 0.6388\n",
      "Epoch 134/200\n",
      "8000/8000 [==============================] - 14s 2ms/step - loss: 0.1274 - accuracy: 0.9724 - val_loss: 3.0557 - val_accuracy: 0.6373\n",
      "Epoch 135/200\n",
      "8000/8000 [==============================] - 14s 2ms/step - loss: 0.1262 - accuracy: 0.9728 - val_loss: 3.0635 - val_accuracy: 0.6392\n",
      "Epoch 136/200\n",
      "8000/8000 [==============================] - 14s 2ms/step - loss: 0.1256 - accuracy: 0.9728 - val_loss: 3.0754 - val_accuracy: 0.6390\n",
      "Epoch 137/200\n",
      "8000/8000 [==============================] - 15s 2ms/step - loss: 0.1247 - accuracy: 0.9731 - val_loss: 3.0639 - val_accuracy: 0.6402\n",
      "Epoch 138/200\n",
      "8000/8000 [==============================] - 14s 2ms/step - loss: 0.1243 - accuracy: 0.9731 - val_loss: 3.0713 - val_accuracy: 0.6390\n",
      "Epoch 139/200\n",
      "8000/8000 [==============================] - 15s 2ms/step - loss: 0.1232 - accuracy: 0.9734 - val_loss: 3.0765 - val_accuracy: 0.6403\n",
      "Epoch 140/200\n",
      "8000/8000 [==============================] - 14s 2ms/step - loss: 0.1223 - accuracy: 0.9735 - val_loss: 3.0884 - val_accuracy: 0.6395\n",
      "Epoch 141/200\n",
      "8000/8000 [==============================] - 14s 2ms/step - loss: 0.1215 - accuracy: 0.9736 - val_loss: 3.0835 - val_accuracy: 0.6399\n",
      "Epoch 142/200\n",
      "8000/8000 [==============================] - 14s 2ms/step - loss: 0.1207 - accuracy: 0.9737 - val_loss: 3.1074 - val_accuracy: 0.6391\n",
      "Epoch 143/200\n",
      "8000/8000 [==============================] - 14s 2ms/step - loss: 0.1202 - accuracy: 0.9739 - val_loss: 3.1027 - val_accuracy: 0.6392\n",
      "Epoch 144/200\n",
      "8000/8000 [==============================] - 14s 2ms/step - loss: 0.1194 - accuracy: 0.9741 - val_loss: 3.1139 - val_accuracy: 0.6389\n",
      "Epoch 145/200\n",
      "8000/8000 [==============================] - 14s 2ms/step - loss: 0.1186 - accuracy: 0.9741 - val_loss: 3.1088 - val_accuracy: 0.6389\n",
      "Epoch 146/200\n",
      "8000/8000 [==============================] - 14s 2ms/step - loss: 0.1180 - accuracy: 0.9743 - val_loss: 3.1191 - val_accuracy: 0.6384\n",
      "Epoch 147/200\n",
      "8000/8000 [==============================] - 14s 2ms/step - loss: 0.1170 - accuracy: 0.9745 - val_loss: 3.1369 - val_accuracy: 0.6377\n",
      "Epoch 148/200\n",
      "8000/8000 [==============================] - 15s 2ms/step - loss: 0.1162 - accuracy: 0.9748 - val_loss: 3.1306 - val_accuracy: 0.6391\n",
      "Epoch 149/200\n",
      "8000/8000 [==============================] - 14s 2ms/step - loss: 0.1159 - accuracy: 0.9747 - val_loss: 3.1293 - val_accuracy: 0.6394\n",
      "Epoch 150/200\n",
      "8000/8000 [==============================] - 14s 2ms/step - loss: 0.1148 - accuracy: 0.9749 - val_loss: 3.1271 - val_accuracy: 0.6397\n",
      "Epoch 151/200\n",
      "8000/8000 [==============================] - 15s 2ms/step - loss: 0.1142 - accuracy: 0.9750 - val_loss: 3.1462 - val_accuracy: 0.6394\n",
      "Epoch 152/200\n",
      "8000/8000 [==============================] - 15s 2ms/step - loss: 0.1132 - accuracy: 0.9752 - val_loss: 3.1384 - val_accuracy: 0.6393\n",
      "Epoch 153/200\n",
      "8000/8000 [==============================] - 14s 2ms/step - loss: 0.1124 - accuracy: 0.9753 - val_loss: 3.1580 - val_accuracy: 0.6385\n",
      "Epoch 154/200\n",
      "8000/8000 [==============================] - 14s 2ms/step - loss: 0.1117 - accuracy: 0.9756 - val_loss: 3.1419 - val_accuracy: 0.6389\n",
      "Epoch 155/200\n",
      "8000/8000 [==============================] - 15s 2ms/step - loss: 0.1126 - accuracy: 0.9756 - val_loss: 3.1540 - val_accuracy: 0.6371\n",
      "Epoch 156/200\n",
      "8000/8000 [==============================] - 14s 2ms/step - loss: 0.1130 - accuracy: 0.9754 - val_loss: 3.1589 - val_accuracy: 0.6402\n",
      "Epoch 157/200\n",
      "8000/8000 [==============================] - 14s 2ms/step - loss: 0.1103 - accuracy: 0.9757 - val_loss: 3.1571 - val_accuracy: 0.6392\n",
      "Epoch 158/200\n",
      "8000/8000 [==============================] - 14s 2ms/step - loss: 0.1093 - accuracy: 0.9760 - val_loss: 3.1732 - val_accuracy: 0.6394\n",
      "Epoch 159/200\n",
      "8000/8000 [==============================] - 14s 2ms/step - loss: 0.1086 - accuracy: 0.9762 - val_loss: 3.1729 - val_accuracy: 0.6389\n",
      "Epoch 160/200\n",
      "8000/8000 [==============================] - 14s 2ms/step - loss: 0.1076 - accuracy: 0.9763 - val_loss: 3.1666 - val_accuracy: 0.6397\n",
      "Epoch 161/200\n",
      "8000/8000 [==============================] - 14s 2ms/step - loss: 0.1074 - accuracy: 0.9762 - val_loss: 3.1733 - val_accuracy: 0.6391\n",
      "Epoch 162/200\n",
      "8000/8000 [==============================] - 14s 2ms/step - loss: 0.1063 - accuracy: 0.9766 - val_loss: 3.1864 - val_accuracy: 0.6393\n",
      "Epoch 163/200\n",
      "8000/8000 [==============================] - 14s 2ms/step - loss: 0.1054 - accuracy: 0.9768 - val_loss: 3.2042 - val_accuracy: 0.6380\n",
      "Epoch 164/200\n",
      "8000/8000 [==============================] - 14s 2ms/step - loss: 0.1046 - accuracy: 0.9769 - val_loss: 3.2122 - val_accuracy: 0.6394\n",
      "Epoch 165/200\n",
      "8000/8000 [==============================] - 14s 2ms/step - loss: 0.1040 - accuracy: 0.9769 - val_loss: 3.1998 - val_accuracy: 0.6399\n",
      "Epoch 166/200\n",
      "8000/8000 [==============================] - 14s 2ms/step - loss: 0.1032 - accuracy: 0.9773 - val_loss: 3.2098 - val_accuracy: 0.6382\n",
      "Epoch 167/200\n"
     ]
    },
    {
     "name": "stdout",
     "output_type": "stream",
     "text": [
      "8000/8000 [==============================] - 14s 2ms/step - loss: 0.1027 - accuracy: 0.9773 - val_loss: 3.2035 - val_accuracy: 0.6388\n",
      "Epoch 168/200\n",
      "8000/8000 [==============================] - 15s 2ms/step - loss: 0.1018 - accuracy: 0.9774 - val_loss: 3.2088 - val_accuracy: 0.6397\n",
      "Epoch 169/200\n",
      "8000/8000 [==============================] - 15s 2ms/step - loss: 0.1013 - accuracy: 0.9775 - val_loss: 3.2056 - val_accuracy: 0.6389\n",
      "Epoch 170/200\n",
      "8000/8000 [==============================] - 15s 2ms/step - loss: 0.1006 - accuracy: 0.9775 - val_loss: 3.2127 - val_accuracy: 0.6391\n",
      "Epoch 171/200\n",
      "8000/8000 [==============================] - 14s 2ms/step - loss: 0.0996 - accuracy: 0.9776 - val_loss: 3.2249 - val_accuracy: 0.6401\n",
      "Epoch 172/200\n",
      "8000/8000 [==============================] - 14s 2ms/step - loss: 0.0986 - accuracy: 0.9781 - val_loss: 3.2310 - val_accuracy: 0.6383\n",
      "Epoch 173/200\n",
      "8000/8000 [==============================] - 16s 2ms/step - loss: 0.0983 - accuracy: 0.9780 - val_loss: 3.2395 - val_accuracy: 0.6383\n",
      "Epoch 174/200\n",
      "8000/8000 [==============================] - 14s 2ms/step - loss: 0.0973 - accuracy: 0.9783 - val_loss: 3.2328 - val_accuracy: 0.6405\n",
      "Epoch 175/200\n",
      "8000/8000 [==============================] - 14s 2ms/step - loss: 0.0970 - accuracy: 0.9784 - val_loss: 3.2508 - val_accuracy: 0.6389\n",
      "Epoch 176/200\n",
      "8000/8000 [==============================] - 14s 2ms/step - loss: 0.0963 - accuracy: 0.9785 - val_loss: 3.2572 - val_accuracy: 0.6378\n",
      "Epoch 177/200\n",
      "8000/8000 [==============================] - 14s 2ms/step - loss: 0.0961 - accuracy: 0.9783 - val_loss: 3.2417 - val_accuracy: 0.6392\n",
      "Epoch 178/200\n",
      "8000/8000 [==============================] - 14s 2ms/step - loss: 0.0953 - accuracy: 0.9786 - val_loss: 3.2537 - val_accuracy: 0.6386\n",
      "Epoch 179/200\n",
      "8000/8000 [==============================] - 14s 2ms/step - loss: 0.0941 - accuracy: 0.9790 - val_loss: 3.2490 - val_accuracy: 0.6409\n",
      "Epoch 180/200\n",
      "8000/8000 [==============================] - 14s 2ms/step - loss: 0.0935 - accuracy: 0.9789 - val_loss: 3.2537 - val_accuracy: 0.6387\n",
      "Epoch 181/200\n",
      "8000/8000 [==============================] - 15s 2ms/step - loss: 0.0930 - accuracy: 0.9790 - val_loss: 3.2768 - val_accuracy: 0.6381\n",
      "Epoch 182/200\n",
      "8000/8000 [==============================] - 16s 2ms/step - loss: 0.0926 - accuracy: 0.9793 - val_loss: 3.2687 - val_accuracy: 0.6372\n",
      "Epoch 183/200\n",
      "8000/8000 [==============================] - 15s 2ms/step - loss: 0.0915 - accuracy: 0.9794 - val_loss: 3.2686 - val_accuracy: 0.6386\n",
      "Epoch 184/200\n",
      "8000/8000 [==============================] - 17s 2ms/step - loss: 0.0909 - accuracy: 0.9796 - val_loss: 3.2687 - val_accuracy: 0.6399\n",
      "Epoch 185/200\n",
      "8000/8000 [==============================] - 14s 2ms/step - loss: 0.0904 - accuracy: 0.9797 - val_loss: 3.2677 - val_accuracy: 0.6393\n",
      "Epoch 186/200\n",
      "8000/8000 [==============================] - 17s 2ms/step - loss: 0.0899 - accuracy: 0.9799 - val_loss: 3.2892 - val_accuracy: 0.6387\n",
      "Epoch 187/200\n",
      "8000/8000 [==============================] - 14s 2ms/step - loss: 0.0887 - accuracy: 0.9800 - val_loss: 3.2821 - val_accuracy: 0.6387\n",
      "Epoch 188/200\n",
      "8000/8000 [==============================] - 14s 2ms/step - loss: 0.0882 - accuracy: 0.9801 - val_loss: 3.2881 - val_accuracy: 0.6388\n",
      "Epoch 189/200\n",
      "8000/8000 [==============================] - 15s 2ms/step - loss: 0.0874 - accuracy: 0.9803 - val_loss: 3.2841 - val_accuracy: 0.6398\n",
      "Epoch 190/200\n",
      "8000/8000 [==============================] - 15s 2ms/step - loss: 0.0869 - accuracy: 0.9803 - val_loss: 3.2853 - val_accuracy: 0.6384\n",
      "Epoch 191/200\n",
      "8000/8000 [==============================] - 14s 2ms/step - loss: 0.0865 - accuracy: 0.9803 - val_loss: 3.3225 - val_accuracy: 0.6388\n",
      "Epoch 192/200\n",
      "8000/8000 [==============================] - 14s 2ms/step - loss: 0.0855 - accuracy: 0.9806 - val_loss: 3.2931 - val_accuracy: 0.6393\n",
      "Epoch 193/200\n",
      "8000/8000 [==============================] - 15s 2ms/step - loss: 0.0848 - accuracy: 0.9806 - val_loss: 3.3171 - val_accuracy: 0.6390\n",
      "Epoch 194/200\n",
      "8000/8000 [==============================] - 14s 2ms/step - loss: 0.0845 - accuracy: 0.9807 - val_loss: 3.2949 - val_accuracy: 0.6398\n",
      "Epoch 195/200\n",
      "8000/8000 [==============================] - 14s 2ms/step - loss: 0.0833 - accuracy: 0.9811 - val_loss: 3.3205 - val_accuracy: 0.6391\n",
      "Epoch 196/200\n",
      "8000/8000 [==============================] - 14s 2ms/step - loss: 0.0832 - accuracy: 0.9810 - val_loss: 3.3100 - val_accuracy: 0.6390\n",
      "Epoch 197/200\n",
      "8000/8000 [==============================] - 15s 2ms/step - loss: 0.0826 - accuracy: 0.9810 - val_loss: 3.3033 - val_accuracy: 0.6392\n",
      "Epoch 198/200\n",
      "8000/8000 [==============================] - 14s 2ms/step - loss: 0.0818 - accuracy: 0.9814 - val_loss: 3.3146 - val_accuracy: 0.6392\n",
      "Epoch 199/200\n",
      "8000/8000 [==============================] - 14s 2ms/step - loss: 0.0811 - accuracy: 0.9814 - val_loss: 3.3214 - val_accuracy: 0.6396\n",
      "Epoch 200/200\n",
      "8000/8000 [==============================] - 14s 2ms/step - loss: 0.0802 - accuracy: 0.9818 - val_loss: 3.3446 - val_accuracy: 0.6383\n",
      "calculation time:  2993.2091250419617\n"
     ]
    }
   ],
   "source": [
    "import time\n",
    "\n",
    "# Run training\n",
    "start = time.time()\n",
    "\n",
    "model_history = model.fit([encoder_input_data, decoder_input_data], \n",
    "                          decoder_target_data,\n",
    "                          batch_size=batch_size,\n",
    "                          epochs=epochs,\n",
    "                          validation_split=0.2)\n",
    "end = time.time()\n",
    "print (\"calculation time: \", end - start)\n",
    "\n",
    "# # Save model\n",
    "# model.save('seq2seq.h5')"
   ]
  },
  {
   "cell_type": "code",
   "execution_count": 12,
   "metadata": {},
   "outputs": [],
   "source": [
    "import matplotlib.pyplot as plt\n",
    "def plot_accuracy(history):\n",
    "    f, (ax1, ax2) = plt.subplots(1, 2, figsize=(12, 4))\n",
    "    t = f.suptitle('Seq2Seq Performance', fontsize=12)\n",
    "    f.subplots_adjust(top=0.85, wspace=0.3)\n",
    "\n",
    "    epoch_lenght = len(history.history['accuracy'])+1\n",
    "    epoch_list = list(range(1,epoch_lenght))\n",
    "    \n",
    "    # Plot accuracy\n",
    "    ax1.plot(epoch_list, history.history['accuracy'], label='Train Accuracy')\n",
    "    ax1.plot(epoch_list, history.history['val_accuracy'], label='Validation Accuracy')\n",
    "    ax1.set_xticks(np.arange(0, epoch_lenght, 20))\n",
    "    ax1.set_ylabel('Accuracy Value')\n",
    "    ax1.set_xlabel('Epoch')\n",
    "    ax1.set_title('Accuracy')\n",
    "    l1 = ax1.legend(loc=\"best\")\n",
    "\n",
    "    # Plot loss\n",
    "    ax2.plot(epoch_list, history.history['loss'], label='Train Loss')\n",
    "    ax2.plot(epoch_list, history.history['val_loss'], label='Validation Loss')\n",
    "    ax2.set_xticks(np.arange(0, epoch_lenght, 20))\n",
    "    ax2.set_ylabel('Loss Value')\n",
    "    ax2.set_xlabel('Epoch')\n",
    "    ax2.set_title('Loss')\n",
    "    l2 = ax2.legend(loc=\"best\")\n",
    "plot_accuracy(model_history)"
   ]
  },
  {
   "cell_type": "code",
   "execution_count": 13,
   "metadata": {},
   "outputs": [],
   "source": [
    "# Next: inference mode (sampling).\n",
    "# Here's the drill:\n",
    "# 1) encode input and retrieve initial decoder state\n",
    "# 2) run one step of decoder with this initial state\n",
    "# and a \"start of sequence\" token as target.\n",
    "# Output will be the next target token\n",
    "# 3) Repeat with the current target token and current states\n",
    "\n",
    "# Define sampling models\n",
    "encoder_model = Model(encoder_inputs, encoder_states)\n",
    "\n",
    "decoder_state_input_h = Input(shape=(latent_dim,))\n",
    "decoder_state_input_c = Input(shape=(latent_dim,))\n",
    "decoder_states_inputs = [decoder_state_input_h, decoder_state_input_c]\n",
    "decoder_outputs, state_h, state_c = decoder_lstm(\n",
    "    decoder_inputs, initial_state=decoder_states_inputs)\n",
    "decoder_states = [state_h, state_c]\n",
    "decoder_outputs = decoder_dense(decoder_outputs)\n",
    "decoder_model = Model(\n",
    "    [decoder_inputs] + decoder_states_inputs,\n",
    "    [decoder_outputs] + decoder_states)\n",
    "\n",
    "# Reverse-lookup token index to decode sequences back to\n",
    "# something readable.\n",
    "reverse_input_char_index = dict(\n",
    "    (i, char) for char, i in input_token_index.items())\n",
    "reverse_target_char_index = dict(\n",
    "    (i, char) for char, i in target_token_index.items())"
   ]
  },
  {
   "cell_type": "code",
   "execution_count": 14,
   "metadata": {},
   "outputs": [],
   "source": [
    "def decode_sequence(input_seq):\n",
    "    # Encode the input as state vectors.\n",
    "    states_value = encoder_model.predict(input_seq)\n",
    "\n",
    "    # Generate empty target sequence of length 1.\n",
    "    target_seq = np.zeros((1, 1, num_decoder_tokens))\n",
    "    # Populate the first character of target sequence with the start character.\n",
    "    target_seq[0, 0, target_token_index['\\t']] = 1.\n",
    "\n",
    "    # Sampling loop for a batch of sequences\n",
    "    # (to simplify, here we assume a batch of size 1).\n",
    "    stop_condition = False\n",
    "    decoded_sentence = ''\n",
    "    while not stop_condition:\n",
    "        output_tokens, h, c = decoder_model.predict(\n",
    "            [target_seq] + states_value)\n",
    "\n",
    "        # Sample a token\n",
    "        sampled_token_index = np.argmax(output_tokens[0, -1, :])\n",
    "        sampled_char = reverse_target_char_index[sampled_token_index]\n",
    "        decoded_sentence += sampled_char\n",
    "\n",
    "        # Exit condition: either hit max length\n",
    "        # or find stop character.\n",
    "        if (sampled_char == '\\n' or\n",
    "           len(decoded_sentence) > max_decoder_seq_length):\n",
    "            stop_condition = True\n",
    "\n",
    "        # Update the target sequence (of length 1).\n",
    "        target_seq = np.zeros((1, 1, num_decoder_tokens))\n",
    "        target_seq[0, 0, sampled_token_index] = 1.\n",
    "\n",
    "        # Update states\n",
    "        states_value = [h, c]\n",
    "\n",
    "    return decoded_sentence"
   ]
  },
  {
   "cell_type": "code",
   "execution_count": 15,
   "metadata": {},
   "outputs": [
    {
     "name": "stdout",
     "output_type": "stream",
     "text": [
      "Go. - 行きなさい。\n",
      "\n",
      "Hi. - こんにちは！\n",
      "\n",
      "Hi. - こんにちは！\n",
      "\n",
      "Hi. - こんにちは！\n",
      "\n",
      "Run. - 走れ。\n",
      "\n",
      "Run. - 走れ。\n",
      "\n",
      "Who? - 誰？\n",
      "\n",
      "Wow! - すごい！\n",
      "\n",
      "Wow! - すごい！\n",
      "\n",
      "Wow! - すごい！\n",
      "\n"
     ]
    }
   ],
   "source": [
    "n = 1\n",
    "for seq_index in range(10):\n",
    "    input_seq = encoder_input_data[n + seq_index: n + seq_index + 1]\n",
    "    decoded_sentence = decode_sequence(input_seq)\n",
    "    print(input_texts[n + seq_index], '-', decoded_sentence)"
   ]
  },
  {
   "cell_type": "markdown",
   "metadata": {},
   "source": [
    "# Test a translated sentence"
   ]
  },
  {
   "cell_type": "code",
   "execution_count": 16,
   "metadata": {},
   "outputs": [],
   "source": [
    "def translate_word(input_sentence):\n",
    "    input_index = input_texts.index(input_sentence)\n",
    "    input_seq = encoder_input_data[input_index:input_index+1]\n",
    "    decoded_sentence = decode_sequence(input_seq)\n",
    "    print(input_texts[input_index], '->', decoded_sentence)"
   ]
  },
  {
   "cell_type": "code",
   "execution_count": 17,
   "metadata": {},
   "outputs": [
    {
     "name": "stdout",
     "output_type": "stream",
     "text": [
      "Jump! -> 飛び跳ねて！\n",
      "\n"
     ]
    }
   ],
   "source": [
    "translate_word(\"Jump!\")"
   ]
  },
  {
   "cell_type": "code",
   "execution_count": 18,
   "metadata": {},
   "outputs": [
    {
     "name": "stdout",
     "output_type": "stream",
     "text": [
      "Run. -> 走れ。\n",
      "\n"
     ]
    }
   ],
   "source": [
    "translate_word(\"Run.\")"
   ]
  },
  {
   "cell_type": "code",
   "execution_count": 19,
   "metadata": {},
   "outputs": [
    {
     "name": "stdout",
     "output_type": "stream",
     "text": [
      "Close your books. -> 本を閉じなさい。\n",
      "\n"
     ]
    }
   ],
   "source": [
    "translate_word(\"Close your books.\")"
   ]
  },
  {
   "cell_type": "code",
   "execution_count": 20,
   "metadata": {},
   "outputs": [
    {
     "name": "stdout",
     "output_type": "stream",
     "text": [
      "Come and help me. -> 私といっしょに来なさい。\n",
      "\n"
     ]
    }
   ],
   "source": [
    "translate_word(\"Come and help me.\")"
   ]
  },
  {
   "cell_type": "code",
   "execution_count": 21,
   "metadata": {},
   "outputs": [
    {
     "name": "stdout",
     "output_type": "stream",
     "text": [
      "Life is too short to worry about things like that. -> そんなことをしたら逆効果になる。\n",
      "\n"
     ]
    }
   ],
   "source": [
    "translate_word(\"Life is too short to worry about things like that.\")"
   ]
  },
  {
   "cell_type": "code",
   "execution_count": 22,
   "metadata": {},
   "outputs": [
    {
     "name": "stdout",
     "output_type": "stream",
     "text": [
      "Tom said that it probably wouldn't take too much time. -> トムは何か忘れた気がすると言っていた。\n",
      "\n"
     ]
    }
   ],
   "source": [
    "translate_word(\"Tom said that it probably wouldn't take too much time.\")"
   ]
  },
  {
   "cell_type": "code",
   "execution_count": null,
   "metadata": {},
   "outputs": [],
   "source": []
  }
 ],
 "metadata": {
  "kernelspec": {
   "display_name": "Python 3",
   "language": "python",
   "name": "python3"
  },
  "language_info": {
   "codemirror_mode": {
    "name": "ipython",
    "version": 3
   },
   "file_extension": ".py",
   "mimetype": "text/x-python",
   "name": "python",
   "nbconvert_exporter": "python",
   "pygments_lexer": "ipython3",
   "version": "3.6.8"
  }
 },
 "nbformat": 4,
 "nbformat_minor": 2
}
